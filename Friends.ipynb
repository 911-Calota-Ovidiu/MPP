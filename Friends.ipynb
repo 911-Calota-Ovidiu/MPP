{
 "cells": [
  {
   "cell_type": "code",
   "execution_count": 8,
   "id": "70aeb86c",
   "metadata": {},
   "outputs": [
    {
     "name": "stdout",
     "output_type": "stream",
     "text": [
      "DONEDONEDONEDONEDONEDONEDONEDONEDONEDONEDONEDONEDONEDONEDONEDONEDONEDONEDONEDONEDONEDONEDONEDONEDONEDONEDONEDONEDONEDONEDONE\n"
     ]
    }
   ],
   "source": [
    "import psycopg2 as ps\n",
    "import random\n",
    "conn= ps.connect(database=\"MPP\",\n",
    "                        host=\"localhost\",\n",
    "                        user=\"postgres\",\n",
    "                        password=\"sa\",\n",
    "                        port=\"5432\"\n",
    ")\n",
    "cursor = conn.cursor()\n",
    "\n",
    "#cursor.execute(\"SELECT * FROM adults\")\n",
    "#print(cursor.fetchmany(size=2))\n",
    "\n",
    "for i in range(10000000):\n",
    "    #generating friends\n",
    "    f1= random.randint(1,999999)\n",
    "    f2= random.randint(1,999999)\n",
    "\n",
    "    #friend first_friend second_friend\n",
    "    insertFriend=\"insert into friend(id) values(%s)\"\n",
    "    insertF1=\"insert into first_friend(childid,id) values(%s,%s)\"\n",
    "    insertF2=\"insert into second_friend(childid,id) values(%s,%s)\"\n",
    "    cursor.execute(insertFriend,([i]))\n",
    "    cursor.execute(insertF1,(f1,i))\n",
    "    cursor.execute(insertF2,(f2,i))\n",
    "    conn.commit()\n",
    "print(\"DONEDONEDONEDONEDONEDONEDONEDONEDONEDONEDONEDONEDONEDONEDONEDONEDONEDONEDONEDONEDONEDONEDONEDONEDONEDONEDONEDONEDONEDONEDONE\")\n",
    "conn.close()"
   ]
  },
  {
   "cell_type": "code",
   "execution_count": null,
   "id": "4e1ba0be",
   "metadata": {},
   "outputs": [],
   "source": []
  },
  {
   "cell_type": "code",
   "execution_count": null,
   "id": "0ef4e956",
   "metadata": {},
   "outputs": [],
   "source": []
  }
 ],
 "metadata": {
  "kernelspec": {
   "display_name": "Python 3 (ipykernel)",
   "language": "python",
   "name": "python3"
  },
  "language_info": {
   "codemirror_mode": {
    "name": "ipython",
    "version": 3
   },
   "file_extension": ".py",
   "mimetype": "text/x-python",
   "name": "python",
   "nbconvert_exporter": "python",
   "pygments_lexer": "ipython3",
   "version": "3.9.16"
  }
 },
 "nbformat": 4,
 "nbformat_minor": 5
}
