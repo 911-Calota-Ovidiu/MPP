{
 "cells": [
  {
   "cell_type": "code",
   "execution_count": 29,
   "id": "70aeb86c",
   "metadata": {},
   "outputs": [],
   "source": [
    "import psycopg2 as ps\n",
    "import random\n",
    "conn= ps.connect(database=\"MPP\",\n",
    "                        host=\"localhost\",\n",
    "                        user=\"postgres\",\n",
    "                        password=\"sa\",\n",
    "                        port=\"5432\"\n",
    ")\n",
    "cursor = conn.cursor()\n",
    "\n",
    "#cursor.execute(\"SELECT * FROM adults\")\n",
    "#print(cursor.fetchmany(size=2))\n",
    "people_names=['Maria','Gigel','Goku','Bruce','Obu','Gabriel','Roxana','Mia','Geta']\n",
    "nr_for_each=[1,1,1,1,1,1,1,1,1]\n",
    "dates=['28-03-1999','28-03-2009','28-03-2019']\n",
    "colors = [\"red\", \"green\", \"blue\", \"yellow\", \"purple\"]\n",
    "addresses=['Alba_Iulia','Cluj_Napoca','Bucuresti','Braila']\n",
    "overall_age=10\n",
    "for i in range(1000000):\n",
    "    #generating name\n",
    "    loc=random.randint(0,8)\n",
    "    name=people_names[loc]+\"_\"+str(nr_for_each[loc])\n",
    "    nr_for_each[loc]+=1\n",
    "    \n",
    "    #generating age\n",
    "    person_age=overall_age\n",
    "    overall_age+=1\n",
    "    if overall_age>60:\n",
    "        overall_age=20\n",
    "        \n",
    "    #generating birthday\n",
    "    bday=random.choice(dates)\n",
    "    \n",
    "    #generating address\n",
    "    address=random.choice(addresses)\n",
    "    \n",
    "    #generating eye color\n",
    "    eyes=random.choice(colors)\n",
    "    \n",
    "    person=str(i)+\",\"+name+\",\"+str(person_age)+\",\"+bday+\",\"+address+\",\"+eyes\n",
    "    #print(person)\n",
    "    insertQ=\"insert into adults(adultid,aname,age,birthdate,address,eyecolor) values(%s,%s,%s,%s,%s,%s)\"\n",
    "    cursor.execute(insertQ,(i,name,person_age,bday,address,eyes))\n",
    "    conn.commit()\n",
    "cursor.execute(\"SELECT * FROM adults\")\n",
    "conn.close()"
   ]
  },
  {
   "cell_type": "code",
   "execution_count": null,
   "id": "4e1ba0be",
   "metadata": {},
   "outputs": [],
   "source": []
  },
  {
   "cell_type": "code",
   "execution_count": null,
   "id": "0ef4e956",
   "metadata": {},
   "outputs": [],
   "source": []
  }
 ],
 "metadata": {
  "kernelspec": {
   "display_name": "Python 3 (ipykernel)",
   "language": "python",
   "name": "python3"
  },
  "language_info": {
   "codemirror_mode": {
    "name": "ipython",
    "version": 3
   },
   "file_extension": ".py",
   "mimetype": "text/x-python",
   "name": "python",
   "nbconvert_exporter": "python",
   "pygments_lexer": "ipython3",
   "version": "3.9.16"
  }
 },
 "nbformat": 4,
 "nbformat_minor": 5
}
