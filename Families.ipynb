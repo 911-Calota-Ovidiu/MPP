{
 "cells": [
  {
   "cell_type": "code",
   "execution_count": 5,
   "id": "70aeb86c",
   "metadata": {},
   "outputs": [],
   "source": [
    "import psycopg2 as ps\n",
    "import random\n",
    "conn= ps.connect(database=\"MPP\",\n",
    "                        host=\"localhost\",\n",
    "                        user=\"postgres\",\n",
    "                        password=\"sa\",\n",
    "                        port=\"5432\"\n",
    ")\n",
    "cursor = conn.cursor()\n",
    "\n",
    "#cursor.execute(\"SELECT * FROM adults\")\n",
    "#print(cursor.fetchmany(size=2))\n",
    "addresses=['Alba_Iulia','Cluj_Napoca','Bucuresti','Braila']\n",
    "members=2\n",
    "\n",
    "for i in range(2,1000000):\n",
    "    #generating dad and mom\n",
    "    dad=random.randint(0,999999)\n",
    "    mom=random.randint(0,999999)\n",
    "    \n",
    "    #generating address\n",
    "    address=random.choice(addresses)\n",
    "    \n",
    "    #generating members\n",
    "    mbs=members\n",
    "    if members==5:\n",
    "        members=2\n",
    "    \n",
    "\n",
    "    insertQ=\"insert into family(famid,mom,dad,nrofmembers,address) values(%s,%s,%s,%s,%s)\"\n",
    "    cursor.execute(insertQ,(i,mom,dad,mbs,address))\n",
    "    conn.commit()\n",
    "cursor.execute(\"SELECT * FROM adults\")\n",
    "conn.close()"
   ]
  },
  {
   "cell_type": "code",
   "execution_count": null,
   "id": "4e1ba0be",
   "metadata": {},
   "outputs": [],
   "source": []
  },
  {
   "cell_type": "code",
   "execution_count": null,
   "id": "0ef4e956",
   "metadata": {},
   "outputs": [],
   "source": []
  }
 ],
 "metadata": {
  "kernelspec": {
   "display_name": "Python 3 (ipykernel)",
   "language": "python",
   "name": "python3"
  },
  "language_info": {
   "codemirror_mode": {
    "name": "ipython",
    "version": 3
   },
   "file_extension": ".py",
   "mimetype": "text/x-python",
   "name": "python",
   "nbconvert_exporter": "python",
   "pygments_lexer": "ipython3",
   "version": "3.9.16"
  }
 },
 "nbformat": 4,
 "nbformat_minor": 5
}
