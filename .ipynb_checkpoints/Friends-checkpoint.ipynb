{
 "cells": [
  {
   "cell_type": "code",
   "execution_count": null,
   "id": "70aeb86c",
   "metadata": {},
   "outputs": [],
   "source": [
    "import multiprocessing\n",
    "import psycopg2\n",
    "\n",
    "def process_range(start, end):\n",
    "    # Connect to the database\n",
    "    conn = psycopg2.connect(database=\"MPP\",\n",
    "                        host=\"localhost\",\n",
    "                        user=\"postgres\",\n",
    "                        password=\"sa\",\n",
    "                        port=\"5432\")\n",
    "    cursor = conn.cursor()\n",
    "    fid=0\n",
    "    # Loop through the range and generate friends\n",
    "    for i in range(start, end):\n",
    "        for j in range(i, 999999):\n",
    "            # Generating friends\n",
    "            f1 = i\n",
    "            f2 = j\n",
    "            if f1!=f2:\n",
    "            # Insert friend data into the database\n",
    "                insertFriend = \"INSERT INTO friend(id) VALUES(%s)\"\n",
    "                insertF1 = \"INSERT INTO first_friend(childid,id) VALUES(%s,%s)\"\n",
    "                insertF2 = \"INSERT INTO second_friend(childid,id) VALUES(%s,%s)\"\n",
    "                cursor.execute(insertFriend, ([fid]))\n",
    "                cursor.execute(insertF1, (f1, fid))\n",
    "                cursor.execute(insertF2, (f2, fid))\n",
    "\n",
    "            # Increment the friend ID and commit the changes\n",
    "            fid += 1\n",
    "            conn.commit()\n",
    "\n",
    "    # Close the database connection\n",
    "    cursor.close()\n",
    "    conn.close()\n",
    "\n",
    "if __name__ == '__main__':\n",
    "    # Define the number of processes to use and the range of the loop to divide among the processes\n",
    "    num_processes = 4\n",
    "    chunk_size = 250000\n",
    "    ranges = [(i, i + chunk_size) for i in range(0, 999999, chunk_size)]\n",
    "\n",
    "    # Set up the database connection parameters\n",
    "\n",
    "\n",
    "    # Create a pool of worker processes\n",
    "    with multiprocessing.Pool(num_processes) as pool:\n",
    "        # Map the process_range function to each range\n",
    "        pool.starmap(process_range, [(start, end) for start, end in ranges])"
   ]
  },
  {
   "cell_type": "code",
   "execution_count": null,
   "id": "4e1ba0be",
   "metadata": {},
   "outputs": [],
   "source": []
  },
  {
   "cell_type": "code",
   "execution_count": null,
   "id": "0ef4e956",
   "metadata": {},
   "outputs": [],
   "source": []
  }
 ],
 "metadata": {
  "kernelspec": {
   "display_name": "Python 3 (ipykernel)",
   "language": "python",
   "name": "python3"
  },
  "language_info": {
   "codemirror_mode": {
    "name": "ipython",
    "version": 3
   },
   "file_extension": ".py",
   "mimetype": "text/x-python",
   "name": "python",
   "nbconvert_exporter": "python",
   "pygments_lexer": "ipython3",
   "version": "3.9.16"
  }
 },
 "nbformat": 4,
 "nbformat_minor": 5
}
